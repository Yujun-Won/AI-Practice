{
  "nbformat": 4,
  "nbformat_minor": 0,
  "metadata": {
    "colab": {
      "provenance": []
    },
    "kernelspec": {
      "name": "python3",
      "display_name": "Python 3"
    },
    "language_info": {
      "name": "python"
    }
  },
  "cells": [
    {
      "cell_type": "markdown",
      "source": [
        "# 데이터 작업하기"
      ],
      "metadata": {
        "id": "TNlIfx_1q8fo"
      }
    },
    {
      "cell_type": "code",
      "execution_count": 1,
      "metadata": {
        "id": "u0o25xgDqshP"
      },
      "outputs": [],
      "source": [
        "import torch\n",
        "from torch import nn\n",
        "from torch.utils.data import DataLoader\n",
        "from torchvision import datasets\n",
        "from torchvision.transforms import ToTensor"
      ]
    },
    {
      "cell_type": "code",
      "source": [
        "# Dataset: sample과 label을 저장\n",
        "\n",
        "training_data = datasets.FashionMNIST(\n",
        "    root=\"data\",\n",
        "    train=True,\n",
        "    download=True,\n",
        "    transform=ToTensor(),\n",
        ")\n",
        "\n",
        "test_data = datasets.FashionMNIST(\n",
        "    root=\"data\",\n",
        "    train=False,\n",
        "    download=True,\n",
        "    transform=ToTensor(),\n",
        ")"
      ],
      "metadata": {
        "colab": {
          "base_uri": "https://localhost:8080/"
        },
        "id": "BMZ9lCH-q5nN",
        "outputId": "b4f32ace-dbe7-4714-87c8-cc214e85dbe7"
      },
      "execution_count": 2,
      "outputs": [
        {
          "output_type": "stream",
          "name": "stdout",
          "text": [
            "Downloading http://fashion-mnist.s3-website.eu-central-1.amazonaws.com/train-images-idx3-ubyte.gz\n",
            "Downloading http://fashion-mnist.s3-website.eu-central-1.amazonaws.com/train-images-idx3-ubyte.gz to data/FashionMNIST/raw/train-images-idx3-ubyte.gz\n"
          ]
        },
        {
          "output_type": "stream",
          "name": "stderr",
          "text": [
            "100%|██████████| 26421880/26421880 [00:00<00:00, 115604052.22it/s]\n"
          ]
        },
        {
          "output_type": "stream",
          "name": "stdout",
          "text": [
            "Extracting data/FashionMNIST/raw/train-images-idx3-ubyte.gz to data/FashionMNIST/raw\n",
            "\n",
            "Downloading http://fashion-mnist.s3-website.eu-central-1.amazonaws.com/train-labels-idx1-ubyte.gz\n",
            "Downloading http://fashion-mnist.s3-website.eu-central-1.amazonaws.com/train-labels-idx1-ubyte.gz to data/FashionMNIST/raw/train-labels-idx1-ubyte.gz\n"
          ]
        },
        {
          "output_type": "stream",
          "name": "stderr",
          "text": [
            "100%|██████████| 29515/29515 [00:00<00:00, 7385007.61it/s]\n"
          ]
        },
        {
          "output_type": "stream",
          "name": "stdout",
          "text": [
            "Extracting data/FashionMNIST/raw/train-labels-idx1-ubyte.gz to data/FashionMNIST/raw\n",
            "\n",
            "Downloading http://fashion-mnist.s3-website.eu-central-1.amazonaws.com/t10k-images-idx3-ubyte.gz\n",
            "Downloading http://fashion-mnist.s3-website.eu-central-1.amazonaws.com/t10k-images-idx3-ubyte.gz to data/FashionMNIST/raw/t10k-images-idx3-ubyte.gz\n"
          ]
        },
        {
          "output_type": "stream",
          "name": "stderr",
          "text": [
            "100%|██████████| 4422102/4422102 [00:00<00:00, 60591421.73it/s]\n"
          ]
        },
        {
          "output_type": "stream",
          "name": "stdout",
          "text": [
            "Extracting data/FashionMNIST/raw/t10k-images-idx3-ubyte.gz to data/FashionMNIST/raw\n",
            "\n",
            "Downloading http://fashion-mnist.s3-website.eu-central-1.amazonaws.com/t10k-labels-idx1-ubyte.gz\n",
            "Downloading http://fashion-mnist.s3-website.eu-central-1.amazonaws.com/t10k-labels-idx1-ubyte.gz to data/FashionMNIST/raw/t10k-labels-idx1-ubyte.gz\n"
          ]
        },
        {
          "output_type": "stream",
          "name": "stderr",
          "text": [
            "100%|██████████| 5148/5148 [00:00<00:00, 18550066.14it/s]\n"
          ]
        },
        {
          "output_type": "stream",
          "name": "stdout",
          "text": [
            "Extracting data/FashionMNIST/raw/t10k-labels-idx1-ubyte.gz to data/FashionMNIST/raw\n",
            "\n"
          ]
        }
      ]
    },
    {
      "cell_type": "code",
      "source": [
        "batch_size = 64\n",
        "\n",
        "# DataLoader: Dataset을 순회 가능한 객체로 감쌈\n",
        "train_dataloader = DataLoader(training_data, batch_size=batch_size)\n",
        "test_dataloader = DataLoader(test_data, batch_size=batch_size)\n",
        "\n",
        "for X, y in test_dataloader:\n",
        "    print(f\"Shape of X [N, C, H, W]: {X.shape}\")\n",
        "    print(f\"Shape of y: {y.shape} {y.dtype}\")\n",
        "    break"
      ],
      "metadata": {
        "colab": {
          "base_uri": "https://localhost:8080/"
        },
        "id": "WyBEKXz9r7zY",
        "outputId": "23d0accd-1bef-4879-a812-34d1f9accc36"
      },
      "execution_count": 3,
      "outputs": [
        {
          "output_type": "stream",
          "name": "stdout",
          "text": [
            "Shape of X [N, C, H, W]: torch.Size([64, 1, 28, 28])\n",
            "Shape of y: torch.Size([64]) torch.int64\n"
          ]
        }
      ]
    },
    {
      "cell_type": "markdown",
      "source": [
        "---"
      ],
      "metadata": {
        "id": "iNPUVZW3r_mg"
      }
    },
    {
      "cell_type": "markdown",
      "source": [
        "# 모델 만들기"
      ],
      "metadata": {
        "id": "Df-u0yGcsAik"
      }
    },
    {
      "cell_type": "code",
      "source": [
        "device = (\n",
        "    \"cuda\"\n",
        "    if torch.cuda.is_available()\n",
        "    else \"mps\"                              # ARM 맥북 GPU 가속기 설정\n",
        "    if torch.backends.mps.is_available()\n",
        "    else \"cpu\"\n",
        ")\n",
        "print(f\"Using {device} device\")\n",
        "\n",
        "# 모델 정의\n",
        "class NeuralNetwork(nn.Module):\n",
        "    def __init__(self):\n",
        "        super().__init__()\n",
        "        self.flatten = nn.Flatten()\n",
        "        self.linear_relu_stack = nn.Sequential(\n",
        "            nn.Linear(28*28, 512),\n",
        "            nn.ReLU(),\n",
        "            nn.Linear(512, 512),\n",
        "            nn.ReLU(),\n",
        "            nn.Linear(512, 10)\n",
        "        )\n",
        "\n",
        "    def forward(self, x):\n",
        "        x = self.flatten(x)                 # 2차원 입력을 1차원으로 Flatten()\n",
        "        logits = self.linear_relu_stack(x)  # 사전에 정의한 모델인 Sequential로 입력\n",
        "        return logits\n",
        "\n",
        "model = NeuralNetwork().to(device)          # NeuralNetwork를 device로 보냄\n",
        "print(model)"
      ],
      "metadata": {
        "colab": {
          "base_uri": "https://localhost:8080/"
        },
        "id": "Kj8cyf_asDAg",
        "outputId": "543d2f1e-6425-47d7-cd6b-d6da3af5475c"
      },
      "execution_count": 5,
      "outputs": [
        {
          "output_type": "stream",
          "name": "stdout",
          "text": [
            "Using cpu device\n",
            "NeuralNetwork(\n",
            "  (flatten): Flatten(start_dim=1, end_dim=-1)\n",
            "  (linear_relu_stack): Sequential(\n",
            "    (0): Linear(in_features=784, out_features=512, bias=True)\n",
            "    (1): ReLU()\n",
            "    (2): Linear(in_features=512, out_features=512, bias=True)\n",
            "    (3): ReLU()\n",
            "    (4): Linear(in_features=512, out_features=10, bias=True)\n",
            "  )\n",
            ")\n"
          ]
        }
      ]
    },
    {
      "cell_type": "markdown",
      "source": [
        "---"
      ],
      "metadata": {
        "id": "gv2oAwZ9snIF"
      }
    },
    {
      "cell_type": "markdown",
      "source": [
        "# 모델 매개변수 최적화하기"
      ],
      "metadata": {
        "id": "RtvVYjoEsn5u"
      }
    },
    {
      "cell_type": "code",
      "source": [
        "# loss_fn: CrossEntropy / optimizer: Stochastic Gradient Descent, lr=0.001\n",
        "loss_fn = nn.CrossEntropyLoss()\n",
        "optimizer = torch.optim.SGD(model.parameters(), lr=1e-3)"
      ],
      "metadata": {
        "id": "rWrqnDWOsrhV"
      },
      "execution_count": 7,
      "outputs": []
    },
    {
      "cell_type": "code",
      "source": [
        "def train(dataloader, model, loss_fn, optimizer):\n",
        "    size = len(dataloader.dataset)                  # 데이터셋 크기 확인\n",
        "    for batch, (X, y) in enumerate(dataloader):     # 배치별로 학습 진행\n",
        "        X, y = X.to(device), y.to(device)           # device로 데이터 이동\n",
        "\n",
        "        pred = model(X)                             # tf의 y_pred\n",
        "        loss = loss_fn(pred, y)                     # loss_fn에 pred와 label y를 넣고 비교\n",
        "\n",
        "        optimizer.zero_grad()                       # 이전에 계산된 경사값을 초기화\n",
        "        loss.backward()                             # 오류 역전파 계산\n",
        "        optimizer.step()                            # SGD로 매개변수 업데이트\n",
        "\n",
        "        # 매 100번째 배치마다 현재 loss와 처리된 데이터 개수 current를 출력\n",
        "        if batch % 100 == 0:\n",
        "            loss, current = loss.item(), (batch + 1) * len(X)\n",
        "            print(f\"loss: {loss:>7f}  [{current:>5d}/{size:>5d}]\")"
      ],
      "metadata": {
        "id": "5Ipt6ZSUssoY"
      },
      "execution_count": 6,
      "outputs": []
    },
    {
      "cell_type": "code",
      "source": [
        "def test(dataloader, model, loss_fn):\n",
        "    size = len(dataloader.dataset)\n",
        "    num_batches = len(dataloader)\n",
        "    model.eval()                                    # 모델 평가 모드 설정\n",
        "    test_loss, correct = 0, 0                       # loss와 정확히 예측한 correct\n",
        "    with torch.no_grad():                           # 그래디언트 계산 비활성화\n",
        "        for X, y in dataloader:\n",
        "            X, y = X.to(device), y.to(device)\n",
        "            pred = model(X)\n",
        "            test_loss += loss_fn(pred, y).item()\n",
        "\n",
        "            # 정확한 예측 개수 계산\n",
        "            correct += (pred.argmax(1) == y).type(torch.float).sum().item()\n",
        "    test_loss /= num_batches\n",
        "    correct /= size\n",
        "    print(f\"Test Error: \\n Accuracy: {(100*correct):>0.1f}%, Avg loss: {test_loss:>8f} \\n\")"
      ],
      "metadata": {
        "id": "o0O8TcVAsukQ"
      },
      "execution_count": 8,
      "outputs": []
    },
    {
      "cell_type": "code",
      "source": [
        "epochs = 5\n",
        "for t in range(epochs):\n",
        "    print(f\"Epoch {t+1}\\n-------------------------------\")\n",
        "    train(train_dataloader, model, loss_fn, optimizer)\n",
        "    test(test_dataloader, model, loss_fn)\n",
        "print(\"Done!\")"
      ],
      "metadata": {
        "colab": {
          "base_uri": "https://localhost:8080/"
        },
        "id": "nkqG_b5rswAp",
        "outputId": "d559d6d0-60e2-4a7b-d0ec-a900f2a63260"
      },
      "execution_count": 9,
      "outputs": [
        {
          "output_type": "stream",
          "name": "stdout",
          "text": [
            "Epoch 1\n",
            "-------------------------------\n",
            "loss: 2.303774  [   64/60000]\n",
            "loss: 2.290728  [ 6464/60000]\n",
            "loss: 2.272647  [12864/60000]\n",
            "loss: 2.273123  [19264/60000]\n",
            "loss: 2.260914  [25664/60000]\n",
            "loss: 2.228867  [32064/60000]\n",
            "loss: 2.245543  [38464/60000]\n",
            "loss: 2.208960  [44864/60000]\n",
            "loss: 2.206449  [51264/60000]\n",
            "loss: 2.184839  [57664/60000]\n",
            "Test Error: \n",
            " Accuracy: 43.6%, Avg loss: 2.174990 \n",
            "\n",
            "Epoch 2\n",
            "-------------------------------\n",
            "loss: 2.180228  [   64/60000]\n",
            "loss: 2.171994  [ 6464/60000]\n",
            "loss: 2.128336  [12864/60000]\n",
            "loss: 2.144727  [19264/60000]\n",
            "loss: 2.102773  [25664/60000]\n",
            "loss: 2.040496  [32064/60000]\n",
            "loss: 2.072388  [38464/60000]\n",
            "loss: 2.000027  [44864/60000]\n",
            "loss: 2.007370  [51264/60000]\n",
            "loss: 1.942954  [57664/60000]\n",
            "Test Error: \n",
            " Accuracy: 56.5%, Avg loss: 1.940857 \n",
            "\n",
            "Epoch 3\n",
            "-------------------------------\n",
            "loss: 1.968301  [   64/60000]\n",
            "loss: 1.942537  [ 6464/60000]\n",
            "loss: 1.845609  [12864/60000]\n",
            "loss: 1.880448  [19264/60000]\n",
            "loss: 1.781511  [25664/60000]\n",
            "loss: 1.718245  [32064/60000]\n",
            "loss: 1.742520  [38464/60000]\n",
            "loss: 1.639637  [44864/60000]\n",
            "loss: 1.669084  [51264/60000]\n",
            "loss: 1.555750  [57664/60000]\n",
            "Test Error: \n",
            " Accuracy: 60.7%, Avg loss: 1.574581 \n",
            "\n",
            "Epoch 4\n",
            "-------------------------------\n",
            "loss: 1.638314  [   64/60000]\n",
            "loss: 1.599184  [ 6464/60000]\n",
            "loss: 1.456249  [12864/60000]\n",
            "loss: 1.523482  [19264/60000]\n",
            "loss: 1.407288  [25664/60000]\n",
            "loss: 1.385162  [32064/60000]\n",
            "loss: 1.404581  [38464/60000]\n",
            "loss: 1.318306  [44864/60000]\n",
            "loss: 1.363199  [51264/60000]\n",
            "loss: 1.250931  [57664/60000]\n",
            "Test Error: \n",
            " Accuracy: 63.4%, Avg loss: 1.279506 \n",
            "\n",
            "Epoch 5\n",
            "-------------------------------\n",
            "loss: 1.358231  [   64/60000]\n",
            "loss: 1.334874  [ 6464/60000]\n",
            "loss: 1.172261  [12864/60000]\n",
            "loss: 1.273731  [19264/60000]\n",
            "loss: 1.153655  [25664/60000]\n",
            "loss: 1.167378  [32064/60000]\n",
            "loss: 1.192545  [38464/60000]\n",
            "loss: 1.121558  [44864/60000]\n",
            "loss: 1.167567  [51264/60000]\n",
            "loss: 1.077449  [57664/60000]\n",
            "Test Error: \n",
            " Accuracy: 65.1%, Avg loss: 1.098080 \n",
            "\n",
            "Done!\n"
          ]
        }
      ]
    },
    {
      "cell_type": "markdown",
      "source": [
        "---"
      ],
      "metadata": {
        "id": "4j3BSOtks39x"
      }
    },
    {
      "cell_type": "markdown",
      "source": [
        "# 모델 저장하기"
      ],
      "metadata": {
        "id": "2AzFDK-Ms430"
      }
    },
    {
      "cell_type": "code",
      "source": [
        "torch.save(model.state_dict(), \"model.pth\")\n",
        "print(\"Saved PyTorch Model State to model.pth\")"
      ],
      "metadata": {
        "colab": {
          "base_uri": "https://localhost:8080/"
        },
        "id": "-40YdZDhsxk6",
        "outputId": "3af9de3c-0cae-464a-8bce-5e6fa0d16a1b"
      },
      "execution_count": 10,
      "outputs": [
        {
          "output_type": "stream",
          "name": "stdout",
          "text": [
            "Saved PyTorch Model State to model.pth\n"
          ]
        }
      ]
    },
    {
      "cell_type": "markdown",
      "source": [
        "# 모델 불러오기"
      ],
      "metadata": {
        "id": "oG--c_Xks7oy"
      }
    },
    {
      "cell_type": "code",
      "source": [
        "model = NeuralNetwork().to(device)\n",
        "model.load_state_dict(torch.load(\"model.pth\"))"
      ],
      "metadata": {
        "colab": {
          "base_uri": "https://localhost:8080/"
        },
        "id": "R6wZoq59s-ZQ",
        "outputId": "3f8cfaac-eb0c-4c3e-a1b4-39397ddf69f8"
      },
      "execution_count": 11,
      "outputs": [
        {
          "output_type": "execute_result",
          "data": {
            "text/plain": [
              "<All keys matched successfully>"
            ]
          },
          "metadata": {},
          "execution_count": 11
        }
      ]
    },
    {
      "cell_type": "code",
      "source": [
        "classes = [\n",
        "    \"T-shirt/top\",\n",
        "    \"Trouser\",\n",
        "    \"Pullover\",\n",
        "    \"Dress\",\n",
        "    \"Coat\",\n",
        "    \"Sandal\",\n",
        "    \"Shirt\",\n",
        "    \"Sneaker\",\n",
        "    \"Bag\",\n",
        "    \"Ankle boot\",\n",
        "]\n",
        "\n",
        "model.eval()\n",
        "x, y = test_data[0][0], test_data[0][1]\n",
        "with torch.no_grad():\n",
        "    x = x.to(device)\n",
        "    pred = model(x)\n",
        "    predicted, actual = classes[pred[0].argmax(0)], classes[y]\n",
        "    print(f'Predicted: \"{predicted}\", Actual: \"{actual}\"')"
      ],
      "metadata": {
        "colab": {
          "base_uri": "https://localhost:8080/"
        },
        "id": "VSlR9JmNtBXn",
        "outputId": "1d9cde43-3b38-4725-c73a-c8fd245d269c"
      },
      "execution_count": 12,
      "outputs": [
        {
          "output_type": "stream",
          "name": "stdout",
          "text": [
            "Predicted: \"Ankle boot\", Actual: \"Ankle boot\"\n"
          ]
        }
      ]
    }
  ]
}
