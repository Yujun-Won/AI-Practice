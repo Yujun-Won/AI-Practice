{
  "nbformat": 4,
  "nbformat_minor": 0,
  "metadata": {
    "colab": {
      "provenance": []
    },
    "kernelspec": {
      "name": "python3",
      "display_name": "Python 3"
    },
    "language_info": {
      "name": "python"
    }
  },
  "cells": [
    {
      "cell_type": "markdown",
      "source": [
        "# 변형 (Transform)"
      ],
      "metadata": {
        "id": "N_h2k_5r6teQ"
      }
    },
    {
      "cell_type": "markdown",
      "source": [
        "- 데이터는 항상 전처리된 상태로 제공되지 않음\n",
        "- **변형(Transform)**을 해서 데이터를 조작하고 학습에 적합하게 만들어야 함\n",
        "- `transform`: feature를 변경\n",
        "- `target_transform`: label을 변경"
      ],
      "metadata": {
        "id": "ZbbxL3Ff6xwi"
      }
    },
    {
      "cell_type": "code",
      "source": [
        "import torch\n",
        "from torchvision import datasets\n",
        "from torchvision.transforms import ToTensor, Lambda\n",
        "\n",
        "ds = datasets.FashionMNIST(\n",
        "    root='data',\n",
        "    train=True,\n",
        "    download=True,\n",
        "    transform=ToTensor(),\n",
        "    target_transform=Lambda(lambda y: torch.zeros(10, dtype=torch.float).scatter_(0, torch.tensor(y),\n",
        "                                                                                  value=1))\n",
        ")\n",
        "\n",
        "# FashionMNIST의 feature는 PIL Image 형식 / label은 integer\n",
        "# feature: Tensor\n",
        "# label: one-hot encoded Tensor"
      ],
      "metadata": {
        "id": "fNTIA7ev6yKf"
      },
      "execution_count": 1,
      "outputs": []
    },
    {
      "cell_type": "markdown",
      "source": [
        "## ToTensor()\n",
        "- `ToTensor`는 PIL Image나 Numpy `ndarray`를 `FloatTensor`로 변환\n",
        "- 이미지 픽셀의 크기 값을 [0., 1.] 범위로 scaling"
      ],
      "metadata": {
        "id": "NK9t-ykG6yNu"
      }
    },
    {
      "cell_type": "markdown",
      "source": [
        "## Lambda Transform\n",
        "\n",
        "- 사용자 정의 람다 함수 적용\n",
        "- integer를 one-hot encoding"
      ],
      "metadata": {
        "id": "i6F0Q7eADjSK"
      }
    },
    {
      "cell_type": "code",
      "source": [
        "target_transform = Lambda(lambda y: torch.zeros(10, dtype=torch.float).scatter_(0, torch.tensor(y), value=1))\n",
        "\n",
        "# y는 크기가 10인 영 텐서 -> scatter_ -> y에 해당하는 인덱스에 value=1 할당"
      ],
      "metadata": {
        "id": "XWVwapFQFtEl"
      },
      "execution_count": 2,
      "outputs": []
    }
  ]
}