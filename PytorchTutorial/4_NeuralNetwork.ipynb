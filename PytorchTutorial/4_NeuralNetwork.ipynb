{
  "nbformat": 4,
  "nbformat_minor": 0,
  "metadata": {
    "colab": {
      "provenance": []
    },
    "kernelspec": {
      "name": "python3",
      "display_name": "Python 3"
    },
    "language_info": {
      "name": "python"
    }
  },
  "cells": [
    {
      "cell_type": "markdown",
      "source": [
        "# 신경망 모델 구성"
      ],
      "metadata": {
        "id": "nMc8Nds8Gc-D"
      }
    },
    {
      "cell_type": "markdown",
      "source": [
        "- `torch.nn`: 신경망을 구성하는데 필요한 모든 구성 요소를 제공\n",
        "- PyTorch의 모든 모듈은 `nn.Module`의 subclass"
      ],
      "metadata": {
        "id": "dHpUDPVtGp53"
      }
    },
    {
      "cell_type": "code",
      "source": [
        "import os\n",
        "import torch\n",
        "from torch import nn\n",
        "from torch.utils.data import DataLoader\n",
        "from torchvision import datasets, transforms"
      ],
      "metadata": {
        "id": "sEqgvQWFGmRD"
      },
      "execution_count": 1,
      "outputs": []
    },
    {
      "cell_type": "code",
      "source": [
        "device = (\n",
        "    \"cuda\"          # GPU\n",
        "    if torch.cuda.is_available()\n",
        "    else \"mps\"      # Apple Silicon\n",
        "    if torch.backends.mps.is_available()\n",
        "    else \"cpu\"\n",
        ")\n",
        "\n",
        "print(f\"Using {device} device\")"
      ],
      "metadata": {
        "colab": {
          "base_uri": "https://localhost:8080/"
        },
        "id": "VW2mdSsoGmTO",
        "outputId": "4b7975cf-9c38-4777-d706-17e853e1f77e"
      },
      "execution_count": 2,
      "outputs": [
        {
          "output_type": "stream",
          "name": "stdout",
          "text": [
            "Using cpu device\n"
          ]
        }
      ]
    },
    {
      "cell_type": "markdown",
      "source": [
        "## 클래스 정의\n",
        "- 신경망 모델을 `nn.Module`의 subclass로 정의\n",
        "- `__init__`에서 신경망 계층 초기화\n",
        "- `nn.Module`을 상속받은 모든 클래스는 `forward` 메소드에 input에 대한 연산을 구현"
      ],
      "metadata": {
        "id": "IO0BVxGLGmWC"
      }
    },
    {
      "cell_type": "code",
      "source": [
        "class NeuralNetwork(nn.Module):\n",
        "    def __init__(self):\n",
        "        super().__init__()\n",
        "        self.flatten = nn.Flatten()     # tensorflow.keras의 Flatten()\n",
        "        self.linear_relu_stack = nn.Sequential(\n",
        "            nn.Linear(28*28, 512),\n",
        "            nn.ReLU(),\n",
        "            nn.Linear(512, 512),\n",
        "            nn.ReLU(),\n",
        "            nn.Linear(512, 10),\n",
        "        )\n",
        "    \n",
        "    def forward(self, x):\n",
        "        x = self.flatten(x)\n",
        "        logits = self.linear_relu_stack(x)\n",
        "        return logits"
      ],
      "metadata": {
        "id": "-RET3dFuGmZj"
      },
      "execution_count": 3,
      "outputs": []
    },
    {
      "cell_type": "code",
      "source": [
        "model = NeuralNetwork().to(device)      # NeuralNetwork 인스턴스 생성 -> device 이동\n",
        "print(model)\n",
        "\n",
        "# 주의! model.forward()를 절대 직접 호출하지 말것!"
      ],
      "metadata": {
        "colab": {
          "base_uri": "https://localhost:8080/"
        },
        "id": "Ah7QEBF1Gmfb",
        "outputId": "59a038b2-ba92-4480-bc71-8e32a398a12f"
      },
      "execution_count": 4,
      "outputs": [
        {
          "output_type": "stream",
          "name": "stdout",
          "text": [
            "NeuralNetwork(\n",
            "  (flatten): Flatten(start_dim=1, end_dim=-1)\n",
            "  (linear_relu_stack): Sequential(\n",
            "    (0): Linear(in_features=784, out_features=512, bias=True)\n",
            "    (1): ReLU()\n",
            "    (2): Linear(in_features=512, out_features=512, bias=True)\n",
            "    (3): ReLU()\n",
            "    (4): Linear(in_features=512, out_features=10, bias=True)\n",
            "  )\n",
            ")\n"
          ]
        }
      ]
    },
    {
      "cell_type": "code",
      "source": [
        "X = torch.rand(1, 28, 28, device=device)\n",
        "logits = model(X)\n",
        "pred_probab = nn.Softmax(dim=1)(logits)\n",
        "y_pred = pred_probab.argmax(1)\n",
        "\n",
        "print(f\"Predicted class: {y_pred}\")"
      ],
      "metadata": {
        "colab": {
          "base_uri": "https://localhost:8080/"
        },
        "id": "7N4ieoFSGmoF",
        "outputId": "387a3518-0125-4a74-9d8e-950988af4e98"
      },
      "execution_count": 5,
      "outputs": [
        {
          "output_type": "stream",
          "name": "stdout",
          "text": [
            "Predicted class: tensor([0])\n"
          ]
        }
      ]
    },
    {
      "cell_type": "markdown",
      "source": [
        "## 모델 분해하여 살펴보기"
      ],
      "metadata": {
        "id": "-0e0CBmnOPxI"
      }
    },
    {
      "cell_type": "code",
      "source": [
        "input_image = torch.rand(3, 28, 28)\n",
        "print(input_image.size())"
      ],
      "metadata": {
        "colab": {
          "base_uri": "https://localhost:8080/"
        },
        "id": "YeyedKD3OkDG",
        "outputId": "575c1702-ae23-44ab-906d-e45ca0860381"
      },
      "execution_count": 6,
      "outputs": [
        {
          "output_type": "stream",
          "name": "stdout",
          "text": [
            "torch.Size([3, 28, 28])\n"
          ]
        }
      ]
    },
    {
      "cell_type": "code",
      "source": [
        "## nn.Flatten\n",
        "\n",
        "flatten = nn.Flatten()\n",
        "flat_image = flatten(input_image)\n",
        "print(flat_image.size())"
      ],
      "metadata": {
        "colab": {
          "base_uri": "https://localhost:8080/"
        },
        "id": "vwhozQinQCPf",
        "outputId": "5a165229-330a-40da-f2de-fa80a90179fc"
      },
      "execution_count": 7,
      "outputs": [
        {
          "output_type": "stream",
          "name": "stdout",
          "text": [
            "torch.Size([3, 784])\n"
          ]
        }
      ]
    },
    {
      "cell_type": "code",
      "source": [
        "## nn.Linear\n",
        "\n",
        "layer1 = nn.Linear(in_features=28*28, out_features=20)\n",
        "hidden1 = layer1(flat_image)\n",
        "print(hidden1.size())"
      ],
      "metadata": {
        "colab": {
          "base_uri": "https://localhost:8080/"
        },
        "id": "E2MIo4LzQvQ5",
        "outputId": "0c2ae329-201e-4afa-be67-43c7448edaf6"
      },
      "execution_count": 8,
      "outputs": [
        {
          "output_type": "stream",
          "name": "stdout",
          "text": [
            "torch.Size([3, 20])\n"
          ]
        }
      ]
    },
    {
      "cell_type": "code",
      "source": [
        "## nn.ReLU\n",
        "\n",
        "print(f\"Before ReLU: {hidden1}\\n\\n\")\n",
        "\n",
        "hidden1 = nn.ReLU()(hidden1)\n",
        "print(f\"After ReLU: {hidden1}\")"
      ],
      "metadata": {
        "colab": {
          "base_uri": "https://localhost:8080/"
        },
        "id": "zxHkYRyBQ6K5",
        "outputId": "5c0318f0-5ed2-4498-b6be-69f3a3ad376a"
      },
      "execution_count": 9,
      "outputs": [
        {
          "output_type": "stream",
          "name": "stdout",
          "text": [
            "Before ReLU: tensor([[ 0.4266, -0.0634,  0.4144, -0.1885, -0.7122,  0.7277,  0.1327, -0.4899,\n",
            "          0.0196, -0.3434, -0.3943, -0.1615,  0.2107, -0.1986,  0.4113,  0.2516,\n",
            "          0.2046, -0.3745, -0.5222, -0.0390],\n",
            "        [ 0.3508, -0.0217,  0.1415, -0.3540, -0.4608,  0.2962, -0.2919, -0.2693,\n",
            "          0.2231, -0.0701, -0.3881, -0.4105,  0.0309,  0.1489,  0.0110, -0.1141,\n",
            "          0.1526, -0.3551, -0.4311, -0.0766],\n",
            "        [ 0.7970, -0.0447,  0.1552, -0.0569, -0.3590,  0.4634,  0.1966, -0.2421,\n",
            "         -0.0304, -0.1946, -0.4883, -0.5455,  0.0340, -0.1611,  0.0759, -0.1331,\n",
            "          0.1301, -0.2865, -0.5892, -0.2554]], grad_fn=<AddmmBackward0>)\n",
            "\n",
            "\n",
            "After ReLU: tensor([[0.4266, 0.0000, 0.4144, 0.0000, 0.0000, 0.7277, 0.1327, 0.0000, 0.0196,\n",
            "         0.0000, 0.0000, 0.0000, 0.2107, 0.0000, 0.4113, 0.2516, 0.2046, 0.0000,\n",
            "         0.0000, 0.0000],\n",
            "        [0.3508, 0.0000, 0.1415, 0.0000, 0.0000, 0.2962, 0.0000, 0.0000, 0.2231,\n",
            "         0.0000, 0.0000, 0.0000, 0.0309, 0.1489, 0.0110, 0.0000, 0.1526, 0.0000,\n",
            "         0.0000, 0.0000],\n",
            "        [0.7970, 0.0000, 0.1552, 0.0000, 0.0000, 0.4634, 0.1966, 0.0000, 0.0000,\n",
            "         0.0000, 0.0000, 0.0000, 0.0340, 0.0000, 0.0759, 0.0000, 0.1301, 0.0000,\n",
            "         0.0000, 0.0000]], grad_fn=<ReluBackward0>)\n"
          ]
        }
      ]
    },
    {
      "cell_type": "code",
      "source": [
        "## nn.Sequential\n",
        "\n",
        "seq_modules = nn.Sequential(\n",
        "    flatten,\n",
        "    layer1,\n",
        "    nn.ReLU(),\n",
        "    nn.Linear(20,10)\n",
        ")\n",
        "input_image = torch.rand(3, 28, 28)\n",
        "logits = seq_modules(input_image)"
      ],
      "metadata": {
        "id": "WbPAjx90Qxg3"
      },
      "execution_count": 10,
      "outputs": []
    },
    {
      "cell_type": "code",
      "source": [
        "## nn.Softmax\n",
        "\n",
        "softmax = nn.Softmax(dim=1)\n",
        "pred_probab = softmax(logits)"
      ],
      "metadata": {
        "id": "IpwmdiBKRgvb"
      },
      "execution_count": 11,
      "outputs": []
    },
    {
      "cell_type": "code",
      "source": [
        "## 모델 매개변수\n",
        "\n",
        "print(f\"Model structure: {model}\\n\\n\")\n",
        "\n",
        "for name, param in model.named_parameters():\n",
        "    print(f\"Layer: {name} | Size: {param.size()} | Values: {param[:2]}\\n\")"
      ],
      "metadata": {
        "colab": {
          "base_uri": "https://localhost:8080/"
        },
        "id": "di9LLTlnRp0_",
        "outputId": "7cd87817-3bdb-49c4-dab8-bc55dbef639f"
      },
      "execution_count": 12,
      "outputs": [
        {
          "output_type": "stream",
          "name": "stdout",
          "text": [
            "Model structure: NeuralNetwork(\n",
            "  (flatten): Flatten(start_dim=1, end_dim=-1)\n",
            "  (linear_relu_stack): Sequential(\n",
            "    (0): Linear(in_features=784, out_features=512, bias=True)\n",
            "    (1): ReLU()\n",
            "    (2): Linear(in_features=512, out_features=512, bias=True)\n",
            "    (3): ReLU()\n",
            "    (4): Linear(in_features=512, out_features=10, bias=True)\n",
            "  )\n",
            ")\n",
            "\n",
            "\n",
            "Layer: linear_relu_stack.0.weight | Size: torch.Size([512, 784]) | Values: tensor([[-0.0144,  0.0214, -0.0031,  ..., -0.0049, -0.0084, -0.0256],\n",
            "        [-0.0052,  0.0121, -0.0244,  ...,  0.0221,  0.0217,  0.0284]],\n",
            "       grad_fn=<SliceBackward0>)\n",
            "\n",
            "Layer: linear_relu_stack.0.bias | Size: torch.Size([512]) | Values: tensor([0.0314, 0.0004], grad_fn=<SliceBackward0>)\n",
            "\n",
            "Layer: linear_relu_stack.2.weight | Size: torch.Size([512, 512]) | Values: tensor([[ 0.0295, -0.0042,  0.0373,  ..., -0.0420, -0.0234,  0.0360],\n",
            "        [ 0.0378,  0.0205,  0.0280,  ..., -0.0271, -0.0351,  0.0242]],\n",
            "       grad_fn=<SliceBackward0>)\n",
            "\n",
            "Layer: linear_relu_stack.2.bias | Size: torch.Size([512]) | Values: tensor([-0.0295,  0.0331], grad_fn=<SliceBackward0>)\n",
            "\n",
            "Layer: linear_relu_stack.4.weight | Size: torch.Size([10, 512]) | Values: tensor([[ 0.0317, -0.0011, -0.0349,  ...,  0.0404,  0.0243,  0.0429],\n",
            "        [ 0.0364,  0.0115,  0.0165,  ...,  0.0151,  0.0281,  0.0069]],\n",
            "       grad_fn=<SliceBackward0>)\n",
            "\n",
            "Layer: linear_relu_stack.4.bias | Size: torch.Size([10]) | Values: tensor([ 0.0265, -0.0189], grad_fn=<SliceBackward0>)\n",
            "\n"
          ]
        }
      ]
    }
  ]
}